{
 "cells": [
  {
   "cell_type": "code",
   "execution_count": 1,
   "metadata": {},
   "outputs": [
    {
     "name": "stdout",
     "output_type": "stream",
     "text": [
      "A Grade\n",
      "--------MARKSHEET-------\n",
      "Name: M. Hassan Bin Saif\n",
      "Father Name: M. Saif Uddin\n",
      "Roll No: AIC030208\n",
      "85\n",
      "75.2\n"
     ]
    }
   ],
   "source": [
    "f=open(\"Marksheet.csv\",\"w\")\n",
    "Name=\"Name: M. Hassan Bin Saif\"\n",
    "Father_Name=\"Father Name: M. Saif Uddin\"\n",
    "Roll_No=\"Roll No: AIC030208\"\n",
    "Physics_Marks=85\n",
    "Maths_Marks=90\n",
    "Islamiat_Marks=75\n",
    "Urdu_Marks=61\n",
    "English_Marks=65\n",
    "Total_Marks=500\n",
    "Obtained_Marks=Physics_Marks+Maths_Marks+Islamiat_Marks+Urdu_Marks+English_Marks      \n",
    "Percentage=(Obtained_Marks/Total_Marks)*100\n",
    "if Percentage>=80:\n",
    "    print(\"A-One Grade\")\n",
    "elif Percentage <80:\n",
    "    print(\"A Grade\")\n",
    "elif Percentage<70:\n",
    "    print(\"B Grade\")\n",
    "elif Percentage<60:\n",
    "    print(\"C Grade\")\n",
    "else:\n",
    "    print(\"Failed\")\n",
    "Marksheet= \"--------MARKSHEET-------\"\n",
    "print(Marksheet)\n",
    "print(Name)\n",
    "print(Father_Name)\n",
    "print(Roll_No)\n",
    "print(Physics_Marks)\n",
    "print(Percentage)"
   ]
  },
  {
   "cell_type": "code",
   "execution_count": null,
   "metadata": {},
   "outputs": [],
   "source": []
  }
 ],
 "metadata": {
  "kernelspec": {
   "display_name": "Python 3",
   "language": "python",
   "name": "python3"
  },
  "language_info": {
   "codemirror_mode": {
    "name": "ipython",
    "version": 3
   },
   "file_extension": ".py",
   "mimetype": "text/x-python",
   "name": "python",
   "nbconvert_exporter": "python",
   "pygments_lexer": "ipython3",
   "version": "3.7.3"
  }
 },
 "nbformat": 4,
 "nbformat_minor": 2
}
